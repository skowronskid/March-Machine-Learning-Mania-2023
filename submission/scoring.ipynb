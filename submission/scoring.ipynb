{
 "cells": [
  {
   "cell_type": "code",
   "execution_count": 72,
   "metadata": {},
   "outputs": [],
   "source": [
    "import numpy as np\n",
    "import pandas as pd\n",
    "from sklearn.metrics import accuracy_score, mean_squared_error"
   ]
  },
  {
   "cell_type": "code",
   "execution_count": 73,
   "metadata": {},
   "outputs": [],
   "source": [
    "submission = pd.read_csv('submission/submission.csv')\n",
    "M_results = pd.read_csv('submission/MNCAATourneyDetailedResults.csv')\n",
    "W_results = pd.read_csv('submission/WNCAATourneyDetailedResults.csv')"
   ]
  },
  {
   "cell_type": "code",
   "execution_count": 74,
   "metadata": {},
   "outputs": [
    {
     "data": {
      "text/html": [
       "<div>\n",
       "<style scoped>\n",
       "    .dataframe tbody tr th:only-of-type {\n",
       "        vertical-align: middle;\n",
       "    }\n",
       "\n",
       "    .dataframe tbody tr th {\n",
       "        vertical-align: top;\n",
       "    }\n",
       "\n",
       "    .dataframe thead th {\n",
       "        text-align: right;\n",
       "    }\n",
       "</style>\n",
       "<table border=\"1\" class=\"dataframe\">\n",
       "  <thead>\n",
       "    <tr style=\"text-align: right;\">\n",
       "      <th></th>\n",
       "      <th>ID</th>\n",
       "      <th>Pred</th>\n",
       "    </tr>\n",
       "  </thead>\n",
       "  <tbody>\n",
       "    <tr>\n",
       "      <th>0</th>\n",
       "      <td>2023_1104_1112</td>\n",
       "      <td>0.723990</td>\n",
       "    </tr>\n",
       "    <tr>\n",
       "      <th>1</th>\n",
       "      <td>2023_1104_1113</td>\n",
       "      <td>0.915681</td>\n",
       "    </tr>\n",
       "    <tr>\n",
       "      <th>2</th>\n",
       "      <td>2023_1104_1116</td>\n",
       "      <td>0.845466</td>\n",
       "    </tr>\n",
       "    <tr>\n",
       "      <th>3</th>\n",
       "      <td>2023_1104_1120</td>\n",
       "      <td>0.845042</td>\n",
       "    </tr>\n",
       "    <tr>\n",
       "      <th>4</th>\n",
       "      <td>2023_1104_1124</td>\n",
       "      <td>0.839218</td>\n",
       "    </tr>\n",
       "    <tr>\n",
       "      <th>...</th>\n",
       "      <td>...</td>\n",
       "      <td>...</td>\n",
       "    </tr>\n",
       "    <tr>\n",
       "      <th>4551</th>\n",
       "      <td>2023_3437_3450</td>\n",
       "      <td>0.472925</td>\n",
       "    </tr>\n",
       "    <tr>\n",
       "      <th>4552</th>\n",
       "      <td>2023_3437_3452</td>\n",
       "      <td>0.721032</td>\n",
       "    </tr>\n",
       "    <tr>\n",
       "      <th>4553</th>\n",
       "      <td>2023_3439_3450</td>\n",
       "      <td>0.697753</td>\n",
       "    </tr>\n",
       "    <tr>\n",
       "      <th>4554</th>\n",
       "      <td>2023_3439_3452</td>\n",
       "      <td>0.925963</td>\n",
       "    </tr>\n",
       "    <tr>\n",
       "      <th>4555</th>\n",
       "      <td>2023_3450_3452</td>\n",
       "      <td>0.612521</td>\n",
       "    </tr>\n",
       "  </tbody>\n",
       "</table>\n",
       "<p>4556 rows × 2 columns</p>\n",
       "</div>"
      ],
      "text/plain": [
       "                  ID      Pred\n",
       "0     2023_1104_1112  0.723990\n",
       "1     2023_1104_1113  0.915681\n",
       "2     2023_1104_1116  0.845466\n",
       "3     2023_1104_1120  0.845042\n",
       "4     2023_1104_1124  0.839218\n",
       "...              ...       ...\n",
       "4551  2023_3437_3450  0.472925\n",
       "4552  2023_3437_3452  0.721032\n",
       "4553  2023_3439_3450  0.697753\n",
       "4554  2023_3439_3452  0.925963\n",
       "4555  2023_3450_3452  0.612521\n",
       "\n",
       "[4556 rows x 2 columns]"
      ]
     },
     "execution_count": 74,
     "metadata": {},
     "output_type": "execute_result"
    }
   ],
   "source": [
    "submission"
   ]
  },
  {
   "cell_type": "code",
   "execution_count": 75,
   "metadata": {},
   "outputs": [],
   "source": [
    "def duplicate_and_switch_sides(df):\n",
    "    # locationL\n",
    "    #   - 1 if T1 plays home court\n",
    "    #   - -1 if T1 plays away court\n",
    "    #   - 0 if neutral court \n",
    "    df_copy = df.copy()\n",
    "    df_copy[\"location\"] = df_copy[\"WLoc\"].apply(lambda x: \"H\" if x == \"A\" else \"A\" if x == \"H\" else \"N\")\n",
    "    df_copy.drop(columns=[\"WLoc\"], inplace=True)\n",
    "    df_copy.columns = df_copy.columns.str.replace('W', 'T2_').str.replace('L', 'T1_')\n",
    "    \n",
    "    df[\"location\"] = df[\"WLoc\"]\n",
    "    df.drop(columns=[\"WLoc\"], inplace=True)\n",
    "\n",
    "    df.columns = df.columns.str.replace('W','T1_').str.replace('L','T2_')\n",
    "    \n",
    "    \n",
    "    result = pd.concat([df, df_copy],axis=0)\n",
    "    result[\"location\"] = result[\"location\"].apply(lambda x: 1 if x == \"H\" else 0 if x == \"N\" else -1)\n",
    "    result[\"point_diff\"] = result[\"T1_Score\"] - result[\"T2_Score\"]\n",
    "    result.sort_values(by=[\"Season\", \"T1_TeamID\", \"T2_TeamID\"], inplace=True)\n",
    "    result.reset_index(drop=True, inplace=True)\n",
    "    return result   \n",
    "    "
   ]
  },
  {
   "cell_type": "code",
   "execution_count": 76,
   "metadata": {},
   "outputs": [],
   "source": [
    "M_new = duplicate_and_switch_sides(M_results).query(\"Season == 2023 and T1_TeamID < T2_TeamID\")\n",
    "W_new = duplicate_and_switch_sides(W_results).query(\"Season == 2023 and T1_TeamID < T2_TeamID\")"
   ]
  },
  {
   "cell_type": "code",
   "execution_count": 77,
   "metadata": {},
   "outputs": [],
   "source": [
    "M_new[\"win\"] = np.array(M_new[\"point_diff\"] > 0, dtype=int)\n",
    "W_new[\"win\"] = np.array(W_new[\"point_diff\"] > 0, dtype=int)"
   ]
  },
  {
   "cell_type": "code",
   "execution_count": 78,
   "metadata": {},
   "outputs": [],
   "source": [
    "M_new[\"ID\"] = M_new[\"Season\"].astype(str) + \"_\" + M_new[\"T1_TeamID\"].astype(str) + \"_\" + M_new[\"T2_TeamID\"].astype(str)\n",
    "W_new[\"ID\"] = W_new[\"Season\"].astype(str) + \"_\" + W_new[\"T1_TeamID\"].astype(str) + \"_\" + W_new[\"T2_TeamID\"].astype(str)"
   ]
  },
  {
   "cell_type": "code",
   "execution_count": 79,
   "metadata": {},
   "outputs": [],
   "source": [
    "M_final = M_new[[\"ID\", \"win\"]]\n",
    "W_final = W_new[[\"ID\", \"win\"]]"
   ]
  },
  {
   "cell_type": "code",
   "execution_count": 52,
   "metadata": {},
   "outputs": [],
   "source": [
    "results = pd.concat([M_final, W_final], axis=0).reset_index(drop=True)"
   ]
  },
  {
   "cell_type": "code",
   "execution_count": 56,
   "metadata": {},
   "outputs": [],
   "source": [
    "final = results.merge(submission, on=\"ID\", how=\"left\")"
   ]
  },
  {
   "cell_type": "code",
   "execution_count": 66,
   "metadata": {},
   "outputs": [
    {
     "data": {
      "text/plain": [
       "0.19361362768443618"
      ]
     },
     "execution_count": 66,
     "metadata": {},
     "output_type": "execute_result"
    }
   ],
   "source": [
    "mean_squared_error(final[\"win\"], final[\"Pred\"])"
   ]
  },
  {
   "cell_type": "code",
   "execution_count": 65,
   "metadata": {},
   "outputs": [
    {
     "data": {
      "text/plain": [
       "0.7142857142857143"
      ]
     },
     "execution_count": 65,
     "metadata": {},
     "output_type": "execute_result"
    }
   ],
   "source": [
    "accuracy_score(final[\"win\"], round(final[\"Pred\"]))"
   ]
  },
  {
   "cell_type": "code",
   "execution_count": 80,
   "metadata": {},
   "outputs": [],
   "source": [
    "W_final = W_final.merge(submission, on=\"ID\", how=\"left\")\n",
    "M_final = M_final.merge(submission, on=\"ID\", how=\"left\")"
   ]
  },
  {
   "cell_type": "code",
   "execution_count": 81,
   "metadata": {},
   "outputs": [
    {
     "data": {
      "text/plain": [
       "0.16965865097725974"
      ]
     },
     "execution_count": 81,
     "metadata": {},
     "output_type": "execute_result"
    }
   ],
   "source": [
    "mean_squared_error(W_final[\"win\"], W_final[\"Pred\"])"
   ]
  },
  {
   "cell_type": "code",
   "execution_count": 82,
   "metadata": {},
   "outputs": [
    {
     "data": {
      "text/plain": [
       "0.746031746031746"
      ]
     },
     "execution_count": 82,
     "metadata": {},
     "output_type": "execute_result"
    }
   ],
   "source": [
    "accuracy_score(W_final[\"win\"], round(W_final[\"Pred\"]))"
   ]
  },
  {
   "cell_type": "code",
   "execution_count": 83,
   "metadata": {},
   "outputs": [
    {
     "data": {
      "text/plain": [
       "0.2175686043916126"
      ]
     },
     "execution_count": 83,
     "metadata": {},
     "output_type": "execute_result"
    }
   ],
   "source": [
    "mean_squared_error(M_final[\"win\"], M_final[\"Pred\"])"
   ]
  },
  {
   "cell_type": "code",
   "execution_count": 84,
   "metadata": {},
   "outputs": [
    {
     "data": {
      "text/plain": [
       "0.6825396825396826"
      ]
     },
     "execution_count": 84,
     "metadata": {},
     "output_type": "execute_result"
    }
   ],
   "source": [
    "accuracy_score(M_final[\"win\"], round(M_final[\"Pred\"]))\n"
   ]
  }
 ],
 "metadata": {
  "kernelspec": {
   "display_name": "mmlm",
   "language": "python",
   "name": "python3"
  },
  "language_info": {
   "codemirror_mode": {
    "name": "ipython",
    "version": 3
   },
   "file_extension": ".py",
   "mimetype": "text/x-python",
   "name": "python",
   "nbconvert_exporter": "python",
   "pygments_lexer": "ipython3",
   "version": "3.11.3"
  },
  "orig_nbformat": 4
 },
 "nbformat": 4,
 "nbformat_minor": 2
}
