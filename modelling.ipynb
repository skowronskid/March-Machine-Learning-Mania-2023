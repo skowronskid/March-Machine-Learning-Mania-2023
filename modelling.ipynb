{
 "cells": [
  {
   "cell_type": "markdown",
   "id": "0b616133",
   "metadata": {},
   "source": [
    "# March Machine Learning Mania 2023\n",
    "## Modelling"
   ]
  },
  {
   "cell_type": "code",
   "execution_count": 1,
   "id": "6a085c78",
   "metadata": {},
   "outputs": [],
   "source": [
    "import numpy as np\n",
    "import pandas as pd\n",
    "import matplotlib.pyplot as plt\n",
    "import seaborn as sns\n",
    "import xgboost as xgb\n",
    "from sklearn.metrics import accuracy_score, mean_squared_error\n",
    "from sklearn.model_selection import GridSearchCV\n"
   ]
  },
  {
   "cell_type": "code",
   "execution_count": 2,
   "id": "4f22b4b1",
   "metadata": {},
   "outputs": [],
   "source": [
    "M_full = pd.read_csv('./final_datasets/M_train.csv')\n",
    "M_solution = pd.read_csv('./final_datasets/M_solution.csv')\n",
    "W_full = pd.read_csv('./final_datasets/W_train.csv')\n",
    "W_solution = pd.read_csv('./final_datasets/W_solution.csv')"
   ]
  },
  {
   "cell_type": "markdown",
   "id": "28a23fb4",
   "metadata": {},
   "source": [
    "### Men tourney"
   ]
  },
  {
   "cell_type": "code",
   "execution_count": 3,
   "id": "5283f18d",
   "metadata": {
    "scrolled": true
   },
   "outputs": [
    {
     "data": {
      "text/html": [
       "<div>\n",
       "<style scoped>\n",
       "    .dataframe tbody tr th:only-of-type {\n",
       "        vertical-align: middle;\n",
       "    }\n",
       "\n",
       "    .dataframe tbody tr th {\n",
       "        vertical-align: top;\n",
       "    }\n",
       "\n",
       "    .dataframe thead th {\n",
       "        text-align: right;\n",
       "    }\n",
       "</style>\n",
       "<table border=\"1\" class=\"dataframe\">\n",
       "  <thead>\n",
       "    <tr style=\"text-align: right;\">\n",
       "      <th></th>\n",
       "      <th>Season</th>\n",
       "      <th>T1_TeamID</th>\n",
       "      <th>T1_FG%_home_mean</th>\n",
       "      <th>T1_3P%_home_mean</th>\n",
       "      <th>T1_point_diff_home_mean</th>\n",
       "      <th>T1_win_home_mean</th>\n",
       "      <th>T1_FG%_away_mean</th>\n",
       "      <th>T1_3P%_away_mean</th>\n",
       "      <th>T1_point_diff_away_mean</th>\n",
       "      <th>T1_win_away_mean</th>\n",
       "      <th>...</th>\n",
       "      <th>T2_top8_appearances</th>\n",
       "      <th>T2_top16_appearances</th>\n",
       "      <th>T2_top32_appearances</th>\n",
       "      <th>T2_top64_appearances</th>\n",
       "      <th>T2_top68_appearances</th>\n",
       "      <th>T2_total_tourney_appearances</th>\n",
       "      <th>T2_conf_point_margin</th>\n",
       "      <th>T2_conf_win_margin</th>\n",
       "      <th>win</th>\n",
       "      <th>seed_diff</th>\n",
       "    </tr>\n",
       "  </thead>\n",
       "  <tbody>\n",
       "    <tr>\n",
       "      <th>0</th>\n",
       "      <td>2003</td>\n",
       "      <td>1104</td>\n",
       "      <td>0.433635</td>\n",
       "      <td>0.363928</td>\n",
       "      <td>11.733333</td>\n",
       "      <td>0.866667</td>\n",
       "      <td>0.425919</td>\n",
       "      <td>0.395321</td>\n",
       "      <td>9.684211</td>\n",
       "      <td>0.842105</td>\n",
       "      <td>...</td>\n",
       "      <td>0</td>\n",
       "      <td>0</td>\n",
       "      <td>0</td>\n",
       "      <td>0</td>\n",
       "      <td>0</td>\n",
       "      <td>0</td>\n",
       "      <td>10.714820</td>\n",
       "      <td>0.761294</td>\n",
       "      <td>0.0</td>\n",
       "      <td>3.0</td>\n",
       "    </tr>\n",
       "    <tr>\n",
       "      <th>1</th>\n",
       "      <td>2003</td>\n",
       "      <td>1112</td>\n",
       "      <td>0.472727</td>\n",
       "      <td>0.412883</td>\n",
       "      <td>18.800000</td>\n",
       "      <td>0.933333</td>\n",
       "      <td>0.466619</td>\n",
       "      <td>0.416245</td>\n",
       "      <td>17.187500</td>\n",
       "      <td>0.875000</td>\n",
       "      <td>...</td>\n",
       "      <td>0</td>\n",
       "      <td>0</td>\n",
       "      <td>0</td>\n",
       "      <td>0</td>\n",
       "      <td>0</td>\n",
       "      <td>0</td>\n",
       "      <td>1.544091</td>\n",
       "      <td>0.638742</td>\n",
       "      <td>1.0</td>\n",
       "      <td>-8.0</td>\n",
       "    </tr>\n",
       "    <tr>\n",
       "      <th>2</th>\n",
       "      <td>2003</td>\n",
       "      <td>1112</td>\n",
       "      <td>0.472727</td>\n",
       "      <td>0.412883</td>\n",
       "      <td>18.800000</td>\n",
       "      <td>0.933333</td>\n",
       "      <td>0.466619</td>\n",
       "      <td>0.416245</td>\n",
       "      <td>17.187500</td>\n",
       "      <td>0.875000</td>\n",
       "      <td>...</td>\n",
       "      <td>0</td>\n",
       "      <td>0</td>\n",
       "      <td>0</td>\n",
       "      <td>0</td>\n",
       "      <td>0</td>\n",
       "      <td>0</td>\n",
       "      <td>13.314434</td>\n",
       "      <td>0.773848</td>\n",
       "      <td>0.0</td>\n",
       "      <td>-1.0</td>\n",
       "    </tr>\n",
       "    <tr>\n",
       "      <th>3</th>\n",
       "      <td>2003</td>\n",
       "      <td>1112</td>\n",
       "      <td>0.472727</td>\n",
       "      <td>0.412883</td>\n",
       "      <td>18.800000</td>\n",
       "      <td>0.933333</td>\n",
       "      <td>0.466619</td>\n",
       "      <td>0.416245</td>\n",
       "      <td>17.187500</td>\n",
       "      <td>0.875000</td>\n",
       "      <td>...</td>\n",
       "      <td>0</td>\n",
       "      <td>0</td>\n",
       "      <td>0</td>\n",
       "      <td>0</td>\n",
       "      <td>0</td>\n",
       "      <td>0</td>\n",
       "      <td>12.576436</td>\n",
       "      <td>0.723768</td>\n",
       "      <td>1.0</td>\n",
       "      <td>-4.0</td>\n",
       "    </tr>\n",
       "    <tr>\n",
       "      <th>4</th>\n",
       "      <td>2003</td>\n",
       "      <td>1112</td>\n",
       "      <td>0.472727</td>\n",
       "      <td>0.412883</td>\n",
       "      <td>18.800000</td>\n",
       "      <td>0.933333</td>\n",
       "      <td>0.466619</td>\n",
       "      <td>0.416245</td>\n",
       "      <td>17.187500</td>\n",
       "      <td>0.875000</td>\n",
       "      <td>...</td>\n",
       "      <td>0</td>\n",
       "      <td>0</td>\n",
       "      <td>0</td>\n",
       "      <td>0</td>\n",
       "      <td>0</td>\n",
       "      <td>0</td>\n",
       "      <td>-4.980667</td>\n",
       "      <td>0.323778</td>\n",
       "      <td>1.0</td>\n",
       "      <td>-15.0</td>\n",
       "    </tr>\n",
       "    <tr>\n",
       "      <th>...</th>\n",
       "      <td>...</td>\n",
       "      <td>...</td>\n",
       "      <td>...</td>\n",
       "      <td>...</td>\n",
       "      <td>...</td>\n",
       "      <td>...</td>\n",
       "      <td>...</td>\n",
       "      <td>...</td>\n",
       "      <td>...</td>\n",
       "      <td>...</td>\n",
       "      <td>...</td>\n",
       "      <td>...</td>\n",
       "      <td>...</td>\n",
       "      <td>...</td>\n",
       "      <td>...</td>\n",
       "      <td>...</td>\n",
       "      <td>...</td>\n",
       "      <td>...</td>\n",
       "      <td>...</td>\n",
       "      <td>...</td>\n",
       "      <td>...</td>\n",
       "    </tr>\n",
       "    <tr>\n",
       "      <th>2491</th>\n",
       "      <td>2022</td>\n",
       "      <td>1458</td>\n",
       "      <td>0.428291</td>\n",
       "      <td>0.367420</td>\n",
       "      <td>6.500000</td>\n",
       "      <td>0.750000</td>\n",
       "      <td>0.423013</td>\n",
       "      <td>0.366356</td>\n",
       "      <td>5.850000</td>\n",
       "      <td>0.750000</td>\n",
       "      <td>...</td>\n",
       "      <td>0</td>\n",
       "      <td>0</td>\n",
       "      <td>0</td>\n",
       "      <td>0</td>\n",
       "      <td>0</td>\n",
       "      <td>0</td>\n",
       "      <td>15.169185</td>\n",
       "      <td>0.862019</td>\n",
       "      <td>0.0</td>\n",
       "      <td>-8.0</td>\n",
       "    </tr>\n",
       "    <tr>\n",
       "      <th>2492</th>\n",
       "      <td>2022</td>\n",
       "      <td>1460</td>\n",
       "      <td>0.479648</td>\n",
       "      <td>0.327450</td>\n",
       "      <td>8.000000</td>\n",
       "      <td>0.785714</td>\n",
       "      <td>0.469896</td>\n",
       "      <td>0.328515</td>\n",
       "      <td>5.578947</td>\n",
       "      <td>0.684211</td>\n",
       "      <td>...</td>\n",
       "      <td>0</td>\n",
       "      <td>0</td>\n",
       "      <td>0</td>\n",
       "      <td>0</td>\n",
       "      <td>0</td>\n",
       "      <td>0</td>\n",
       "      <td>8.376615</td>\n",
       "      <td>0.645487</td>\n",
       "      <td>0.0</td>\n",
       "      <td>15.0</td>\n",
       "    </tr>\n",
       "    <tr>\n",
       "      <th>2493</th>\n",
       "      <td>2022</td>\n",
       "      <td>1460</td>\n",
       "      <td>0.479648</td>\n",
       "      <td>0.327450</td>\n",
       "      <td>8.000000</td>\n",
       "      <td>0.785714</td>\n",
       "      <td>0.469896</td>\n",
       "      <td>0.328515</td>\n",
       "      <td>5.578947</td>\n",
       "      <td>0.684211</td>\n",
       "      <td>...</td>\n",
       "      <td>0</td>\n",
       "      <td>0</td>\n",
       "      <td>0</td>\n",
       "      <td>0</td>\n",
       "      <td>0</td>\n",
       "      <td>0</td>\n",
       "      <td>-12.439537</td>\n",
       "      <td>0.176321</td>\n",
       "      <td>1.0</td>\n",
       "      <td>0.0</td>\n",
       "    </tr>\n",
       "    <tr>\n",
       "      <th>2494</th>\n",
       "      <td>2022</td>\n",
       "      <td>1461</td>\n",
       "      <td>0.491874</td>\n",
       "      <td>0.355008</td>\n",
       "      <td>12.428571</td>\n",
       "      <td>0.928571</td>\n",
       "      <td>0.473531</td>\n",
       "      <td>0.380543</td>\n",
       "      <td>9.947368</td>\n",
       "      <td>0.842105</td>\n",
       "      <td>...</td>\n",
       "      <td>0</td>\n",
       "      <td>0</td>\n",
       "      <td>0</td>\n",
       "      <td>0</td>\n",
       "      <td>0</td>\n",
       "      <td>0</td>\n",
       "      <td>12.258611</td>\n",
       "      <td>0.832315</td>\n",
       "      <td>0.0</td>\n",
       "      <td>0.0</td>\n",
       "    </tr>\n",
       "    <tr>\n",
       "      <th>2495</th>\n",
       "      <td>2022</td>\n",
       "      <td>1463</td>\n",
       "      <td>0.458854</td>\n",
       "      <td>0.338603</td>\n",
       "      <td>7.666667</td>\n",
       "      <td>0.750000</td>\n",
       "      <td>0.454342</td>\n",
       "      <td>0.338500</td>\n",
       "      <td>5.647059</td>\n",
       "      <td>0.705882</td>\n",
       "      <td>...</td>\n",
       "      <td>1</td>\n",
       "      <td>4</td>\n",
       "      <td>3</td>\n",
       "      <td>3</td>\n",
       "      <td>0</td>\n",
       "      <td>11</td>\n",
       "      <td>12.258611</td>\n",
       "      <td>0.832315</td>\n",
       "      <td>0.0</td>\n",
       "      <td>11.0</td>\n",
       "    </tr>\n",
       "  </tbody>\n",
       "</table>\n",
       "<p>2496 rows × 121 columns</p>\n",
       "</div>"
      ],
      "text/plain": [
       "      Season  T1_TeamID  T1_FG%_home_mean  T1_3P%_home_mean  \\\n",
       "0       2003       1104          0.433635          0.363928   \n",
       "1       2003       1112          0.472727          0.412883   \n",
       "2       2003       1112          0.472727          0.412883   \n",
       "3       2003       1112          0.472727          0.412883   \n",
       "4       2003       1112          0.472727          0.412883   \n",
       "...      ...        ...               ...               ...   \n",
       "2491    2022       1458          0.428291          0.367420   \n",
       "2492    2022       1460          0.479648          0.327450   \n",
       "2493    2022       1460          0.479648          0.327450   \n",
       "2494    2022       1461          0.491874          0.355008   \n",
       "2495    2022       1463          0.458854          0.338603   \n",
       "\n",
       "      T1_point_diff_home_mean  T1_win_home_mean  T1_FG%_away_mean  \\\n",
       "0                   11.733333          0.866667          0.425919   \n",
       "1                   18.800000          0.933333          0.466619   \n",
       "2                   18.800000          0.933333          0.466619   \n",
       "3                   18.800000          0.933333          0.466619   \n",
       "4                   18.800000          0.933333          0.466619   \n",
       "...                       ...               ...               ...   \n",
       "2491                 6.500000          0.750000          0.423013   \n",
       "2492                 8.000000          0.785714          0.469896   \n",
       "2493                 8.000000          0.785714          0.469896   \n",
       "2494                12.428571          0.928571          0.473531   \n",
       "2495                 7.666667          0.750000          0.454342   \n",
       "\n",
       "      T1_3P%_away_mean  T1_point_diff_away_mean  T1_win_away_mean  ...  \\\n",
       "0             0.395321                 9.684211          0.842105  ...   \n",
       "1             0.416245                17.187500          0.875000  ...   \n",
       "2             0.416245                17.187500          0.875000  ...   \n",
       "3             0.416245                17.187500          0.875000  ...   \n",
       "4             0.416245                17.187500          0.875000  ...   \n",
       "...                ...                      ...               ...  ...   \n",
       "2491          0.366356                 5.850000          0.750000  ...   \n",
       "2492          0.328515                 5.578947          0.684211  ...   \n",
       "2493          0.328515                 5.578947          0.684211  ...   \n",
       "2494          0.380543                 9.947368          0.842105  ...   \n",
       "2495          0.338500                 5.647059          0.705882  ...   \n",
       "\n",
       "      T2_top8_appearances  T2_top16_appearances  T2_top32_appearances  \\\n",
       "0                       0                     0                     0   \n",
       "1                       0                     0                     0   \n",
       "2                       0                     0                     0   \n",
       "3                       0                     0                     0   \n",
       "4                       0                     0                     0   \n",
       "...                   ...                   ...                   ...   \n",
       "2491                    0                     0                     0   \n",
       "2492                    0                     0                     0   \n",
       "2493                    0                     0                     0   \n",
       "2494                    0                     0                     0   \n",
       "2495                    1                     4                     3   \n",
       "\n",
       "      T2_top64_appearances  T2_top68_appearances  \\\n",
       "0                        0                     0   \n",
       "1                        0                     0   \n",
       "2                        0                     0   \n",
       "3                        0                     0   \n",
       "4                        0                     0   \n",
       "...                    ...                   ...   \n",
       "2491                     0                     0   \n",
       "2492                     0                     0   \n",
       "2493                     0                     0   \n",
       "2494                     0                     0   \n",
       "2495                     3                     0   \n",
       "\n",
       "      T2_total_tourney_appearances  T2_conf_point_margin  T2_conf_win_margin  \\\n",
       "0                                0             10.714820            0.761294   \n",
       "1                                0              1.544091            0.638742   \n",
       "2                                0             13.314434            0.773848   \n",
       "3                                0             12.576436            0.723768   \n",
       "4                                0             -4.980667            0.323778   \n",
       "...                            ...                   ...                 ...   \n",
       "2491                             0             15.169185            0.862019   \n",
       "2492                             0              8.376615            0.645487   \n",
       "2493                             0            -12.439537            0.176321   \n",
       "2494                             0             12.258611            0.832315   \n",
       "2495                            11             12.258611            0.832315   \n",
       "\n",
       "      win  seed_diff  \n",
       "0     0.0        3.0  \n",
       "1     1.0       -8.0  \n",
       "2     0.0       -1.0  \n",
       "3     1.0       -4.0  \n",
       "4     1.0      -15.0  \n",
       "...   ...        ...  \n",
       "2491  0.0       -8.0  \n",
       "2492  0.0       15.0  \n",
       "2493  1.0        0.0  \n",
       "2494  0.0        0.0  \n",
       "2495  0.0       11.0  \n",
       "\n",
       "[2496 rows x 121 columns]"
      ]
     },
     "execution_count": 3,
     "metadata": {},
     "output_type": "execute_result"
    }
   ],
   "source": [
    "M_full"
   ]
  },
  {
   "cell_type": "code",
   "execution_count": 4,
   "id": "12fcadba",
   "metadata": {
    "scrolled": true
   },
   "outputs": [
    {
     "data": {
      "text/plain": [
       "2012    134\n",
       "2013    134\n",
       "2019    134\n",
       "2018    134\n",
       "2017    134\n",
       "2016    134\n",
       "2015    134\n",
       "2014    134\n",
       "2022    134\n",
       "2011    134\n",
       "2021    132\n",
       "2004    128\n",
       "2010    128\n",
       "2009    128\n",
       "2008    128\n",
       "2007    128\n",
       "2006    128\n",
       "2005    128\n",
       "2003    128\n",
       "Name: Season, dtype: int64"
      ]
     },
     "execution_count": 4,
     "metadata": {},
     "output_type": "execute_result"
    }
   ],
   "source": [
    "M_full.Season.value_counts()"
   ]
  },
  {
   "cell_type": "code",
   "execution_count": 5,
   "id": "fd59c3fd",
   "metadata": {},
   "outputs": [],
   "source": [
    "M_test = M_full[M_full['Season'] >= 2018]\n",
    "M_train = M_full[M_full['Season'] < 2018]"
   ]
  },
  {
   "cell_type": "code",
   "execution_count": 6,
   "id": "a566c5cd",
   "metadata": {},
   "outputs": [],
   "source": [
    "X_train_M = M_train.drop(['Season','T1_TeamID','T2_TeamID','win'], axis=1)\n",
    "X_test_M = M_test.drop(['Season','T1_TeamID','T2_TeamID','win'], axis=1)\n",
    "y_train_M = M_train['win']\n",
    "y_test_M = M_test['win']"
   ]
  },
  {
   "cell_type": "code",
   "execution_count": 7,
   "id": "9674afa6",
   "metadata": {},
   "outputs": [
    {
     "data": {
      "text/plain": [
       "XGBClassifier(base_score=None, booster=None, callbacks=None,\n",
       "              colsample_bylevel=None, colsample_bynode=None,\n",
       "              colsample_bytree=None, early_stopping_rounds=None,\n",
       "              enable_categorical=False, eval_metric=None, feature_types=None,\n",
       "              gamma=None, gpu_id=None, grow_policy=None, importance_type=None,\n",
       "              interaction_constraints=None, learning_rate=0.01, max_bin=None,\n",
       "              max_cat_threshold=None, max_cat_to_onehot=None,\n",
       "              max_delta_step=None, max_depth=None, max_leaves=None,\n",
       "              min_child_weight=None, missing=nan, monotone_constraints=None,\n",
       "              n_estimators=800, n_jobs=None, num_parallel_tree=None,\n",
       "              predictor=None, random_state=None, ...)"
      ]
     },
     "execution_count": 7,
     "metadata": {},
     "output_type": "execute_result"
    }
   ],
   "source": [
    "model_M = xgb.XGBClassifier(\n",
    "    learning_rate=0.01,\n",
    "    n_estimators=800\n",
    ")\n",
    "\n",
    "model_M.fit(X_train_M, y_train_M)"
   ]
  },
  {
   "cell_type": "code",
   "execution_count": 8,
   "id": "46708651",
   "metadata": {},
   "outputs": [
    {
     "data": {
      "text/plain": [
       "0.6685393258426966"
      ]
     },
     "execution_count": 8,
     "metadata": {},
     "output_type": "execute_result"
    }
   ],
   "source": [
    "y_pred_M = model_M.predict(X_test_M)\n",
    "accuracy_M = accuracy_score(y_test_M, y_pred_M)\n",
    "accuracy_M"
   ]
  },
  {
   "cell_type": "code",
   "execution_count": 9,
   "id": "ee8de4f3",
   "metadata": {
    "scrolled": false
   },
   "outputs": [
    {
     "data": {
      "text/plain": [
       "<AxesSubplot:title={'center':'Feature importance'}, xlabel='F score', ylabel='Features'>"
      ]
     },
     "execution_count": 9,
     "metadata": {},
     "output_type": "execute_result"
    },
    {
     "data": {
      "image/png": "[encoded data removed]",
      "text/plain": [
       "<Figure size 432x288 with 1 Axes>"
      ]
     },
     "metadata": {
      "needs_background": "light"
     },
     "output_type": "display_data"
    }
   ],
   "source": [
    "xgb.plot_importance(model_M, max_num_features=20, importance_type='gain')"
   ]
  },
  {
   "cell_type": "code",
   "execution_count": 10,
   "id": "3859dfd5",
   "metadata": {},
   "outputs": [
    {
     "data": {
      "text/plain": [
       "0.21891510308895717"
      ]
     },
     "execution_count": 10,
     "metadata": {},
     "output_type": "execute_result"
    }
   ],
   "source": [
    "proba_M = model_M.predict_proba(X_test_M)\n",
    "proba_T1_M = proba_M[:,1]\n",
    "mean_squared_error(proba_T1_M, y_test_M)"
   ]
  },
  {
   "cell_type": "code",
   "execution_count": 11,
   "id": "d7de1c64",
   "metadata": {},
   "outputs": [
    {
     "data": {
      "text/plain": [
       "1962    0.0\n",
       "1963    1.0\n",
       "1964    0.0\n",
       "1965    0.0\n",
       "1966    0.0\n",
       "       ... \n",
       "2491    0.0\n",
       "2492    0.0\n",
       "2493    1.0\n",
       "2494    0.0\n",
       "2495    0.0\n",
       "Name: win, Length: 534, dtype: float64"
      ]
     },
     "execution_count": 11,
     "metadata": {},
     "output_type": "execute_result"
    }
   ],
   "source": [
    "y_test_M"
   ]
  },
  {
   "cell_type": "markdown",
   "id": "444e6e48",
   "metadata": {},
   "source": [
    "### Women tourney"
   ]
  },
  {
   "cell_type": "code",
   "execution_count": 12,
   "id": "bd882f6d",
   "metadata": {},
   "outputs": [
    {
     "data": {
      "text/html": [
       "<div>\n",
       "<style scoped>\n",
       "    .dataframe tbody tr th:only-of-type {\n",
       "        vertical-align: middle;\n",
       "    }\n",
       "\n",
       "    .dataframe tbody tr th {\n",
       "        vertical-align: top;\n",
       "    }\n",
       "\n",
       "    .dataframe thead th {\n",
       "        text-align: right;\n",
       "    }\n",
       "</style>\n",
       "<table border=\"1\" class=\"dataframe\">\n",
       "  <thead>\n",
       "    <tr style=\"text-align: right;\">\n",
       "      <th></th>\n",
       "      <th>Season</th>\n",
       "      <th>T1_TeamID</th>\n",
       "      <th>T1_FG%_home_mean</th>\n",
       "      <th>T1_3P%_home_mean</th>\n",
       "      <th>T1_point_diff_home_mean</th>\n",
       "      <th>T1_win_home_mean</th>\n",
       "      <th>T1_FG%_away_mean</th>\n",
       "      <th>T1_3P%_away_mean</th>\n",
       "      <th>T1_point_diff_away_mean</th>\n",
       "      <th>T1_win_away_mean</th>\n",
       "      <th>...</th>\n",
       "      <th>T2_win_mean</th>\n",
       "      <th>T2_win_ratio_last_month</th>\n",
       "      <th>T2_prev_win_ratio</th>\n",
       "      <th>T2_played_prev_tourney</th>\n",
       "      <th>T2_Seed</th>\n",
       "      <th>T2_Rating</th>\n",
       "      <th>T2_conf_point_margin</th>\n",
       "      <th>T2_conf_win_margin</th>\n",
       "      <th>win</th>\n",
       "      <th>seed_diff</th>\n",
       "    </tr>\n",
       "  </thead>\n",
       "  <tbody>\n",
       "    <tr>\n",
       "      <th>0</th>\n",
       "      <td>2010</td>\n",
       "      <td>3114</td>\n",
       "      <td>0.457909</td>\n",
       "      <td>0.401898</td>\n",
       "      <td>20.235294</td>\n",
       "      <td>0.882353</td>\n",
       "      <td>0.455716</td>\n",
       "      <td>0.386934</td>\n",
       "      <td>17.157895</td>\n",
       "      <td>0.789474</td>\n",
       "      <td>...</td>\n",
       "      <td>0.857143</td>\n",
       "      <td>0.428571</td>\n",
       "      <td>0.000000</td>\n",
       "      <td>0.0</td>\n",
       "      <td>6.0</td>\n",
       "      <td>83.212939</td>\n",
       "      <td>14.475932</td>\n",
       "      <td>0.814189</td>\n",
       "      <td>1.0</td>\n",
       "      <td>5.0</td>\n",
       "    </tr>\n",
       "    <tr>\n",
       "      <th>1</th>\n",
       "      <td>2010</td>\n",
       "      <td>3114</td>\n",
       "      <td>0.457909</td>\n",
       "      <td>0.401898</td>\n",
       "      <td>20.235294</td>\n",
       "      <td>0.882353</td>\n",
       "      <td>0.455716</td>\n",
       "      <td>0.386934</td>\n",
       "      <td>17.157895</td>\n",
       "      <td>0.789474</td>\n",
       "      <td>...</td>\n",
       "      <td>0.785714</td>\n",
       "      <td>0.600000</td>\n",
       "      <td>0.000000</td>\n",
       "      <td>0.0</td>\n",
       "      <td>3.0</td>\n",
       "      <td>83.212939</td>\n",
       "      <td>17.941846</td>\n",
       "      <td>0.853491</td>\n",
       "      <td>0.0</td>\n",
       "      <td>8.0</td>\n",
       "    </tr>\n",
       "    <tr>\n",
       "      <th>2</th>\n",
       "      <td>2010</td>\n",
       "      <td>3122</td>\n",
       "      <td>0.418785</td>\n",
       "      <td>0.324334</td>\n",
       "      <td>1.062500</td>\n",
       "      <td>0.562500</td>\n",
       "      <td>0.419130</td>\n",
       "      <td>0.301921</td>\n",
       "      <td>1.833333</td>\n",
       "      <td>0.611111</td>\n",
       "      <td>...</td>\n",
       "      <td>1.000000</td>\n",
       "      <td>1.000000</td>\n",
       "      <td>0.000000</td>\n",
       "      <td>0.0</td>\n",
       "      <td>1.0</td>\n",
       "      <td>83.212939</td>\n",
       "      <td>18.067323</td>\n",
       "      <td>0.797815</td>\n",
       "      <td>0.0</td>\n",
       "      <td>15.0</td>\n",
       "    </tr>\n",
       "    <tr>\n",
       "      <th>3</th>\n",
       "      <td>2010</td>\n",
       "      <td>3124</td>\n",
       "      <td>0.482245</td>\n",
       "      <td>0.139415</td>\n",
       "      <td>27.411765</td>\n",
       "      <td>0.882353</td>\n",
       "      <td>0.481290</td>\n",
       "      <td>0.138026</td>\n",
       "      <td>23.000000</td>\n",
       "      <td>0.863636</td>\n",
       "      <td>...</td>\n",
       "      <td>1.000000</td>\n",
       "      <td>1.000000</td>\n",
       "      <td>0.000000</td>\n",
       "      <td>0.0</td>\n",
       "      <td>1.0</td>\n",
       "      <td>83.212939</td>\n",
       "      <td>15.065471</td>\n",
       "      <td>0.817384</td>\n",
       "      <td>0.0</td>\n",
       "      <td>3.0</td>\n",
       "    </tr>\n",
       "    <tr>\n",
       "      <th>4</th>\n",
       "      <td>2010</td>\n",
       "      <td>3124</td>\n",
       "      <td>0.482245</td>\n",
       "      <td>0.139415</td>\n",
       "      <td>27.411765</td>\n",
       "      <td>0.882353</td>\n",
       "      <td>0.481290</td>\n",
       "      <td>0.138026</td>\n",
       "      <td>23.000000</td>\n",
       "      <td>0.863636</td>\n",
       "      <td>...</td>\n",
       "      <td>0.944444</td>\n",
       "      <td>0.875000</td>\n",
       "      <td>0.000000</td>\n",
       "      <td>0.0</td>\n",
       "      <td>2.0</td>\n",
       "      <td>83.212939</td>\n",
       "      <td>14.475932</td>\n",
       "      <td>0.814189</td>\n",
       "      <td>1.0</td>\n",
       "      <td>2.0</td>\n",
       "    </tr>\n",
       "    <tr>\n",
       "      <th>...</th>\n",
       "      <td>...</td>\n",
       "      <td>...</td>\n",
       "      <td>...</td>\n",
       "      <td>...</td>\n",
       "      <td>...</td>\n",
       "      <td>...</td>\n",
       "      <td>...</td>\n",
       "      <td>...</td>\n",
       "      <td>...</td>\n",
       "      <td>...</td>\n",
       "      <td>...</td>\n",
       "      <td>...</td>\n",
       "      <td>...</td>\n",
       "      <td>...</td>\n",
       "      <td>...</td>\n",
       "      <td>...</td>\n",
       "      <td>...</td>\n",
       "      <td>...</td>\n",
       "      <td>...</td>\n",
       "      <td>...</td>\n",
       "      <td>...</td>\n",
       "    </tr>\n",
       "    <tr>\n",
       "      <th>1515</th>\n",
       "      <td>2022</td>\n",
       "      <td>3428</td>\n",
       "      <td>0.449876</td>\n",
       "      <td>0.542664</td>\n",
       "      <td>18.733333</td>\n",
       "      <td>0.733333</td>\n",
       "      <td>0.439770</td>\n",
       "      <td>0.545249</td>\n",
       "      <td>13.238095</td>\n",
       "      <td>0.714286</td>\n",
       "      <td>...</td>\n",
       "      <td>0.800000</td>\n",
       "      <td>1.000000</td>\n",
       "      <td>0.750000</td>\n",
       "      <td>1.0</td>\n",
       "      <td>2.0</td>\n",
       "      <td>95.210000</td>\n",
       "      <td>17.372917</td>\n",
       "      <td>0.818292</td>\n",
       "      <td>0.0</td>\n",
       "      <td>5.0</td>\n",
       "    </tr>\n",
       "    <tr>\n",
       "      <th>1516</th>\n",
       "      <td>2022</td>\n",
       "      <td>3437</td>\n",
       "      <td>0.409058</td>\n",
       "      <td>0.545034</td>\n",
       "      <td>7.428571</td>\n",
       "      <td>0.857143</td>\n",
       "      <td>0.404712</td>\n",
       "      <td>0.553542</td>\n",
       "      <td>6.125000</td>\n",
       "      <td>0.812500</td>\n",
       "      <td>...</td>\n",
       "      <td>1.000000</td>\n",
       "      <td>0.857143</td>\n",
       "      <td>0.500000</td>\n",
       "      <td>1.0</td>\n",
       "      <td>6.0</td>\n",
       "      <td>88.950000</td>\n",
       "      <td>1.854467</td>\n",
       "      <td>0.514532</td>\n",
       "      <td>1.0</td>\n",
       "      <td>5.0</td>\n",
       "    </tr>\n",
       "    <tr>\n",
       "      <th>1517</th>\n",
       "      <td>2022</td>\n",
       "      <td>3437</td>\n",
       "      <td>0.409058</td>\n",
       "      <td>0.545034</td>\n",
       "      <td>7.428571</td>\n",
       "      <td>0.857143</td>\n",
       "      <td>0.404712</td>\n",
       "      <td>0.553542</td>\n",
       "      <td>6.125000</td>\n",
       "      <td>0.812500</td>\n",
       "      <td>...</td>\n",
       "      <td>1.000000</td>\n",
       "      <td>0.400000</td>\n",
       "      <td>0.666667</td>\n",
       "      <td>1.0</td>\n",
       "      <td>3.0</td>\n",
       "      <td>90.120000</td>\n",
       "      <td>13.941647</td>\n",
       "      <td>0.750906</td>\n",
       "      <td>0.0</td>\n",
       "      <td>8.0</td>\n",
       "    </tr>\n",
       "    <tr>\n",
       "      <th>1518</th>\n",
       "      <td>2022</td>\n",
       "      <td>3439</td>\n",
       "      <td>0.451054</td>\n",
       "      <td>0.661976</td>\n",
       "      <td>20.214286</td>\n",
       "      <td>0.857143</td>\n",
       "      <td>0.452515</td>\n",
       "      <td>0.624041</td>\n",
       "      <td>15.473684</td>\n",
       "      <td>0.789474</td>\n",
       "      <td>...</td>\n",
       "      <td>0.846154</td>\n",
       "      <td>0.875000</td>\n",
       "      <td>0.000000</td>\n",
       "      <td>1.0</td>\n",
       "      <td>12.0</td>\n",
       "      <td>83.190000</td>\n",
       "      <td>-4.802849</td>\n",
       "      <td>0.415264</td>\n",
       "      <td>0.0</td>\n",
       "      <td>-7.0</td>\n",
       "    </tr>\n",
       "    <tr>\n",
       "      <th>1519</th>\n",
       "      <td>2022</td>\n",
       "      <td>3450</td>\n",
       "      <td>0.402531</td>\n",
       "      <td>0.499058</td>\n",
       "      <td>1.692308</td>\n",
       "      <td>0.846154</td>\n",
       "      <td>0.395563</td>\n",
       "      <td>0.446110</td>\n",
       "      <td>-0.125000</td>\n",
       "      <td>0.750000</td>\n",
       "      <td>...</td>\n",
       "      <td>0.823529</td>\n",
       "      <td>0.285714</td>\n",
       "      <td>0.000000</td>\n",
       "      <td>0.0</td>\n",
       "      <td>9.0</td>\n",
       "      <td>82.220000</td>\n",
       "      <td>17.372917</td>\n",
       "      <td>0.818292</td>\n",
       "      <td>0.0</td>\n",
       "      <td>-1.0</td>\n",
       "    </tr>\n",
       "  </tbody>\n",
       "</table>\n",
       "<p>1520 rows × 103 columns</p>\n",
       "</div>"
      ],
      "text/plain": [
       "      Season  T1_TeamID  T1_FG%_home_mean  T1_3P%_home_mean  \\\n",
       "0       2010       3114          0.457909          0.401898   \n",
       "1       2010       3114          0.457909          0.401898   \n",
       "2       2010       3122          0.418785          0.324334   \n",
       "3       2010       3124          0.482245          0.139415   \n",
       "4       2010       3124          0.482245          0.139415   \n",
       "...      ...        ...               ...               ...   \n",
       "1515    2022       3428          0.449876          0.542664   \n",
       "1516    2022       3437          0.409058          0.545034   \n",
       "1517    2022       3437          0.409058          0.545034   \n",
       "1518    2022       3439          0.451054          0.661976   \n",
       "1519    2022       3450          0.402531          0.499058   \n",
       "\n",
       "      T1_point_diff_home_mean  T1_win_home_mean  T1_FG%_away_mean  \\\n",
       "0                   20.235294          0.882353          0.455716   \n",
       "1                   20.235294          0.882353          0.455716   \n",
       "2                    1.062500          0.562500          0.419130   \n",
       "3                   27.411765          0.882353          0.481290   \n",
       "4                   27.411765          0.882353          0.481290   \n",
       "...                       ...               ...               ...   \n",
       "1515                18.733333          0.733333          0.439770   \n",
       "1516                 7.428571          0.857143          0.404712   \n",
       "1517                 7.428571          0.857143          0.404712   \n",
       "1518                20.214286          0.857143          0.452515   \n",
       "1519                 1.692308          0.846154          0.395563   \n",
       "\n",
       "      T1_3P%_away_mean  T1_point_diff_away_mean  T1_win_away_mean  ...  \\\n",
       "0             0.386934                17.157895          0.789474  ...   \n",
       "1             0.386934                17.157895          0.789474  ...   \n",
       "2             0.301921                 1.833333          0.611111  ...   \n",
       "3             0.138026                23.000000          0.863636  ...   \n",
       "4             0.138026                23.000000          0.863636  ...   \n",
       "...                ...                      ...               ...  ...   \n",
       "1515          0.545249                13.238095          0.714286  ...   \n",
       "1516          0.553542                 6.125000          0.812500  ...   \n",
       "1517          0.553542                 6.125000          0.812500  ...   \n",
       "1518          0.624041                15.473684          0.789474  ...   \n",
       "1519          0.446110                -0.125000          0.750000  ...   \n",
       "\n",
       "      T2_win_mean  T2_win_ratio_last_month  T2_prev_win_ratio  \\\n",
       "0        0.857143                 0.428571           0.000000   \n",
       "1        0.785714                 0.600000           0.000000   \n",
       "2        1.000000                 1.000000           0.000000   \n",
       "3        1.000000                 1.000000           0.000000   \n",
       "4        0.944444                 0.875000           0.000000   \n",
       "...           ...                      ...                ...   \n",
       "1515     0.800000                 1.000000           0.750000   \n",
       "1516     1.000000                 0.857143           0.500000   \n",
       "1517     1.000000                 0.400000           0.666667   \n",
       "1518     0.846154                 0.875000           0.000000   \n",
       "1519     0.823529                 0.285714           0.000000   \n",
       "\n",
       "      T2_played_prev_tourney  T2_Seed  T2_Rating  T2_conf_point_margin  \\\n",
       "0                        0.0      6.0  83.212939             14.475932   \n",
       "1                        0.0      3.0  83.212939             17.941846   \n",
       "2                        0.0      1.0  83.212939             18.067323   \n",
       "3                        0.0      1.0  83.212939             15.065471   \n",
       "4                        0.0      2.0  83.212939             14.475932   \n",
       "...                      ...      ...        ...                   ...   \n",
       "1515                     1.0      2.0  95.210000             17.372917   \n",
       "1516                     1.0      6.0  88.950000              1.854467   \n",
       "1517                     1.0      3.0  90.120000             13.941647   \n",
       "1518                     1.0     12.0  83.190000             -4.802849   \n",
       "1519                     0.0      9.0  82.220000             17.372917   \n",
       "\n",
       "      T2_conf_win_margin  win  seed_diff  \n",
       "0               0.814189  1.0        5.0  \n",
       "1               0.853491  0.0        8.0  \n",
       "2               0.797815  0.0       15.0  \n",
       "3               0.817384  0.0        3.0  \n",
       "4               0.814189  1.0        2.0  \n",
       "...                  ...  ...        ...  \n",
       "1515            0.818292  0.0        5.0  \n",
       "1516            0.514532  1.0        5.0  \n",
       "1517            0.750906  0.0        8.0  \n",
       "1518            0.415264  0.0       -7.0  \n",
       "1519            0.818292  0.0       -1.0  \n",
       "\n",
       "[1520 rows x 103 columns]"
      ]
     },
     "execution_count": 12,
     "metadata": {},
     "output_type": "execute_result"
    }
   ],
   "source": [
    "W_full"
   ]
  },
  {
   "cell_type": "code",
   "execution_count": 13,
   "id": "398415d6",
   "metadata": {},
   "outputs": [
    {
     "data": {
      "text/plain": [
       "2022    134\n",
       "2010    126\n",
       "2011    126\n",
       "2012    126\n",
       "2013    126\n",
       "2014    126\n",
       "2015    126\n",
       "2016    126\n",
       "2017    126\n",
       "2018    126\n",
       "2019    126\n",
       "2021    126\n",
       "Name: Season, dtype: int64"
      ]
     },
     "execution_count": 13,
     "metadata": {},
     "output_type": "execute_result"
    }
   ],
   "source": [
    "W_full.Season.value_counts()"
   ]
  },
  {
   "cell_type": "code",
   "execution_count": 14,
   "id": "e56e065c",
   "metadata": {},
   "outputs": [],
   "source": [
    "W_test = W_full[W_full['Season'] >= 2019]\n",
    "W_train = W_full[W_full['Season'] < 2019].dropna()"
   ]
  },
  {
   "cell_type": "code",
   "execution_count": 15,
   "id": "6faba29b",
   "metadata": {},
   "outputs": [
    {
     "data": {
      "text/plain": [
       "((386, 103), (1080, 103))"
      ]
     },
     "execution_count": 15,
     "metadata": {},
     "output_type": "execute_result"
    }
   ],
   "source": [
    "W_test.shape, W_train.shape"
   ]
  },
  {
   "cell_type": "code",
   "execution_count": 16,
   "id": "32cd1493",
   "metadata": {},
   "outputs": [],
   "source": [
    "X_train_W = W_train.drop(['Season','T1_TeamID','T2_TeamID','win'], axis=1)\n",
    "X_test_W = W_test.drop(['Season','T1_TeamID','T2_TeamID','win'], axis=1)\n",
    "y_train_W = W_train['win']\n",
    "y_test_W = W_test['win']"
   ]
  },
  {
   "cell_type": "code",
   "execution_count": 17,
   "id": "a95fbe5a",
   "metadata": {},
   "outputs": [
    {
     "data": {
      "text/plain": [
       "XGBClassifier(base_score=None, booster=None, callbacks=None,\n",
       "              colsample_bylevel=None, colsample_bynode=None,\n",
       "              colsample_bytree=None, early_stopping_rounds=None,\n",
       "              enable_categorical=False, eval_metric=None, feature_types=None,\n",
       "              gamma=None, gpu_id=None, grow_policy=None, importance_type=None,\n",
       "              interaction_constraints=None, learning_rate=0.01, max_bin=None,\n",
       "              max_cat_threshold=None, max_cat_to_onehot=None,\n",
       "              max_delta_step=None, max_depth=None, max_leaves=None,\n",
       "              min_child_weight=None, missing=nan, monotone_constraints=None,\n",
       "              n_estimators=800, n_jobs=None, num_parallel_tree=None,\n",
       "              predictor=None, random_state=None, ...)"
      ]
     },
     "execution_count": 17,
     "metadata": {},
     "output_type": "execute_result"
    }
   ],
   "source": [
    "model_W = xgb.XGBClassifier(\n",
    "    learning_rate=0.01,\n",
    "    n_estimators=800\n",
    ")\n",
    "\n",
    "model_W.fit(X_train_W, y_train_W)"
   ]
  },
  {
   "cell_type": "code",
   "execution_count": 18,
   "id": "d5c4f848",
   "metadata": {},
   "outputs": [
    {
     "data": {
      "text/plain": [
       "0.7538860103626943"
      ]
     },
     "execution_count": 18,
     "metadata": {},
     "output_type": "execute_result"
    }
   ],
   "source": [
    "y_pred_W = model_W.predict(X_test_W)\n",
    "accuracy_W = accuracy_score(y_test_W, y_pred_W)\n",
    "accuracy_W"
   ]
  },
  {
   "cell_type": "code",
   "execution_count": 19,
   "id": "80827c54",
   "metadata": {
    "scrolled": true
   },
   "outputs": [
    {
     "data": {
      "text/plain": [
       "<AxesSubplot:title={'center':'Feature importance'}, xlabel='F score', ylabel='Features'>"
      ]
     },
     "execution_count": 19,
     "metadata": {},
     "output_type": "execute_result"
    },
    {
     "data": {
      "image/png": "[encoded data removed]",
      "text/plain": [
       "<Figure size 432x288 with 1 Axes>"
      ]
     },
     "metadata": {
      "needs_background": "light"
     },
     "output_type": "display_data"
    }
   ],
   "source": [
    "xgb.plot_importance(model_W, max_num_features=20, importance_type='gain')"
   ]
  },
  {
   "cell_type": "code",
   "execution_count": 20,
   "id": "d8678280",
   "metadata": {},
   "outputs": [
    {
     "data": {
      "text/plain": [
       "0.16479999517679156"
      ]
     },
     "execution_count": 20,
     "metadata": {},
     "output_type": "execute_result"
    }
   ],
   "source": [
    "proba_W = model_W.predict_proba(X_test_W)\n",
    "proba_T1_W = proba_W[:,1]\n",
    "mean_squared_error(proba_T1_W, y_test_W)"
   ]
  },
  {
   "cell_type": "markdown",
   "id": "292a53a6",
   "metadata": {},
   "source": [
    "***\n",
    "### Seed_diff vs result"
   ]
  },
  {
   "cell_type": "code",
   "execution_count": 21,
   "id": "257193ff",
   "metadata": {},
   "outputs": [
    {
     "data": {
      "image/png": "[encoded data removed]",
      "text/plain": [
       "<Figure size 432x288 with 1 Axes>"
      ]
     },
     "metadata": {
      "needs_background": "light"
     },
     "output_type": "display_data"
    }
   ],
   "source": [
    "sns.boxplot(x='win', y='seed_diff', data=M_full)\n",
    "plt.show()"
   ]
  },
  {
   "cell_type": "code",
   "execution_count": 22,
   "id": "28c26767",
   "metadata": {},
   "outputs": [
    {
     "data": {
      "image/png": "[encoded data removed]",
      "text/plain": [
       "<Figure size 432x288 with 1 Axes>"
      ]
     },
     "metadata": {
      "needs_background": "light"
     },
     "output_type": "display_data"
    }
   ],
   "source": [
    "plt.hist(M_full[M_full['win'] == 0]['seed_diff'])\n",
    "plt.show()"
   ]
  },
  {
   "cell_type": "code",
   "execution_count": 23,
   "id": "c51785ef",
   "metadata": {},
   "outputs": [
    {
     "data": {
      "image/png": "[encoded data removed]",
      "text/plain": [
       "<Figure size 432x288 with 1 Axes>"
      ]
     },
     "metadata": {
      "needs_background": "light"
     },
     "output_type": "display_data"
    }
   ],
   "source": [
    "plt.hist(W_full[W_full['win'] == 0]['seed_diff'])\n",
    "plt.show()"
   ]
  },
  {
   "cell_type": "markdown",
   "id": "393cecb1",
   "metadata": {},
   "source": [
    "Prediction only based on seed_diff:"
   ]
  },
  {
   "cell_type": "code",
   "execution_count": 24,
   "id": "3bf73f85",
   "metadata": {},
   "outputs": [
    {
     "name": "stdout",
     "output_type": "stream",
     "text": [
      "0.6666666666666666\n"
     ]
    },
    {
     "data": {
      "text/plain": [
       "0.3333333333333333"
      ]
     },
     "execution_count": 24,
     "metadata": {},
     "output_type": "execute_result"
    }
   ],
   "source": [
    "pred_seed_diff_M = np.where(M_test['seed_diff']>0, 0, 1)\n",
    "print(accuracy_score(y_test_M, pred_seed_diff_M))\n",
    "mean_squared_error(y_test_M, pred_seed_diff_M)"
   ]
  },
  {
   "cell_type": "code",
   "execution_count": 25,
   "id": "3727afca",
   "metadata": {
    "scrolled": true
   },
   "outputs": [
    {
     "name": "stdout",
     "output_type": "stream",
     "text": [
      "0.7797927461139896\n"
     ]
    },
    {
     "data": {
      "text/plain": [
       "0.22020725388601037"
      ]
     },
     "execution_count": 25,
     "metadata": {},
     "output_type": "execute_result"
    }
   ],
   "source": [
    "pred_seed_diff_W = np.where(W_test['seed_diff']>0, 0, 1)\n",
    "print(accuracy_score(y_test_W, pred_seed_diff_W))\n",
    "mean_squared_error(y_test_W, pred_seed_diff_W)"
   ]
  },
  {
   "cell_type": "markdown",
   "id": "4ef1ecc2",
   "metadata": {},
   "source": [
    "Prediction based on seed_diff if bigger than 5, otherwise model prediction:"
   ]
  },
  {
   "cell_type": "code",
   "execution_count": 26,
   "id": "0f4f224e",
   "metadata": {},
   "outputs": [
    {
     "name": "stdout",
     "output_type": "stream",
     "text": [
      "0.6647940074906367\n"
     ]
    },
    {
     "data": {
      "text/plain": [
       "0.3352059925093633"
      ]
     },
     "execution_count": 26,
     "metadata": {},
     "output_type": "execute_result"
    }
   ],
   "source": [
    "pred_seed_diff_model_M = np.where(M_test['seed_diff']>5,\n",
    "                                  0, np.where(M_test['seed_diff']<-5, 1,\n",
    "                                             y_pred_M))\n",
    "print(accuracy_score(y_test_M, pred_seed_diff_model_M))\n",
    "mean_squared_error(y_test_M, pred_seed_diff_model_M)"
   ]
  },
  {
   "cell_type": "code",
   "execution_count": 27,
   "id": "8a1adc58",
   "metadata": {
    "scrolled": true
   },
   "outputs": [
    {
     "name": "stdout",
     "output_type": "stream",
     "text": [
      "0.7564766839378239\n"
     ]
    },
    {
     "data": {
      "text/plain": [
       "0.24352331606217617"
      ]
     },
     "execution_count": 27,
     "metadata": {},
     "output_type": "execute_result"
    }
   ],
   "source": [
    "pred_seed_diff_Wodel_W = np.where(W_test['seed_diff']>5,\n",
    "                                  0, np.where(W_test['seed_diff']<-5, 1,\n",
    "                                             y_pred_W))\n",
    "print(accuracy_score(y_test_W, pred_seed_diff_Wodel_W))\n",
    "mean_squared_error(y_test_W, pred_seed_diff_Wodel_W)"
   ]
  },
  {
   "cell_type": "markdown",
   "id": "5a665d64",
   "metadata": {},
   "source": [
    "***\n",
    "## Hyperparameter tuning\n",
    "### Men Tourney"
   ]
  },
  {
   "cell_type": "code",
   "execution_count": 28,
   "id": "debdce55",
   "metadata": {},
   "outputs": [],
   "source": [
    "param_grid = {\n",
    "    'n_estimators': [200, 500, 800],\n",
    "    'learning_rate': [0.1, 0.01, 0.001],\n",
    "    'max_depth': [3, 4, 5, 6]\n",
    "}"
   ]
  },
  {
   "cell_type": "code",
   "execution_count": 29,
   "id": "04c46614",
   "metadata": {},
   "outputs": [
    {
     "data": {
      "text/plain": [
       "GridSearchCV(cv=5,\n",
       "             estimator=XGBClassifier(base_score=None, booster=None,\n",
       "                                     callbacks=None, colsample_bylevel=None,\n",
       "                                     colsample_bynode=None,\n",
       "                                     colsample_bytree=None,\n",
       "                                     early_stopping_rounds=None,\n",
       "                                     enable_categorical=False, eval_metric=None,\n",
       "                                     feature_types=None, gamma=None,\n",
       "                                     gpu_id=None, grow_policy=None,\n",
       "                                     importance_type=None,\n",
       "                                     interaction_constraints=None,\n",
       "                                     learning_rate=None,...n=None,\n",
       "                                     max_cat_threshold=None,\n",
       "                                     max_cat_to_onehot=None,\n",
       "                                     max_delta_step=None, max_depth=None,\n",
       "                                     max_leaves=None, min_child_weight=None,\n",
       "                                     missing=nan, monotone_constraints=None,\n",
       "                                     n_estimators=100, n_jobs=None,\n",
       "                                     num_parallel_tree=None, predictor=None,\n",
       "                                     random_state=123, ...),\n",
       "             param_grid={'learning_rate': [0.1, 0.01, 0.001],\n",
       "                         'max_depth': [3, 4, 5, 6],\n",
       "                         'n_estimators': [200, 500, 800]})"
      ]
     },
     "execution_count": 29,
     "metadata": {},
     "output_type": "execute_result"
    }
   ],
   "source": [
    "xgb_M = xgb.XGBClassifier(random_state=123)\n",
    "grid_search_M = GridSearchCV(estimator=xgb_M, param_grid=param_grid, cv=5)\n",
    "grid_search_M.fit(X_train_M, y_train_M)"
   ]
  },
  {
   "cell_type": "code",
   "execution_count": 30,
   "id": "090405cd",
   "metadata": {},
   "outputs": [],
   "source": [
    "best_params_M = grid_search_M.best_params_\n",
    "best_score_M = grid_search_M.best_score_"
   ]
  },
  {
   "cell_type": "code",
   "execution_count": 31,
   "id": "971d18c3",
   "metadata": {},
   "outputs": [
    {
     "data": {
      "text/plain": [
       "XGBClassifier(base_score=None, booster=None, callbacks=None,\n",
       "              colsample_bylevel=None, colsample_bynode=None,\n",
       "              colsample_bytree=None, early_stopping_rounds=None,\n",
       "              enable_categorical=False, eval_metric=None, feature_types=None,\n",
       "              gamma=None, gpu_id=None, grow_policy=None, importance_type=None,\n",
       "              interaction_constraints=None, learning_rate=0.01, max_bin=None,\n",
       "              max_cat_threshold=None, max_cat_to_onehot=None,\n",
       "              max_delta_step=None, max_depth=6, max_leaves=None,\n",
       "              min_child_weight=None, missing=nan, monotone_constraints=None,\n",
       "              n_estimators=800, n_jobs=None, num_parallel_tree=None,\n",
       "              predictor=None, random_state=None, ...)"
      ]
     },
     "execution_count": 31,
     "metadata": {},
     "output_type": "execute_result"
    }
   ],
   "source": [
    "best_xgb_M = xgb.XGBClassifier(**best_params_M)\n",
    "best_xgb_M.fit(X_train_M, y_train_M)"
   ]
  },
  {
   "cell_type": "code",
   "execution_count": 32,
   "id": "2d2091c3",
   "metadata": {},
   "outputs": [
    {
     "data": {
      "text/plain": [
       "0.6685393258426966"
      ]
     },
     "execution_count": 32,
     "metadata": {},
     "output_type": "execute_result"
    }
   ],
   "source": [
    "y_pred_best_M = best_xgb_M.predict(X_test_M)\n",
    "accuracy_best_M = accuracy_score(y_test_M, y_pred_best_M)\n",
    "accuracy_best_M"
   ]
  },
  {
   "cell_type": "code",
   "execution_count": 33,
   "id": "d125a77a",
   "metadata": {
    "scrolled": false
   },
   "outputs": [
    {
     "data": {
      "text/plain": [
       "<AxesSubplot:title={'center':'Feature importance'}, xlabel='F score', ylabel='Features'>"
      ]
     },
     "execution_count": 33,
     "metadata": {},
     "output_type": "execute_result"
    },
    {
     "data": {
      "image/png": "[encoded data removed]",
      "text/plain": [
       "<Figure size 432x288 with 1 Axes>"
      ]
     },
     "metadata": {
      "needs_background": "light"
     },
     "output_type": "display_data"
    }
   ],
   "source": [
    "xgb.plot_importance(best_xgb_M, max_num_features=20, importance_type='gain')"
   ]
  },
  {
   "cell_type": "code",
   "execution_count": 34,
   "id": "5b1f5abb",
   "metadata": {},
   "outputs": [
    {
     "data": {
      "text/plain": [
       "0.21891510308895717"
      ]
     },
     "execution_count": 34,
     "metadata": {},
     "output_type": "execute_result"
    }
   ],
   "source": [
    "proba_best_M = best_xgb_M.predict_proba(X_test_M)\n",
    "proba_T1_best_M = proba_best_M[:,1]\n",
    "mean_squared_error(proba_T1_best_M, y_test_M)"
   ]
  },
  {
   "cell_type": "markdown",
   "id": "965c1101",
   "metadata": {},
   "source": [
    "### Women Tourney"
   ]
  },
  {
   "cell_type": "code",
   "execution_count": 35,
   "id": "d8c5f2d5",
   "metadata": {},
   "outputs": [
    {
     "data": {
      "text/plain": [
       "GridSearchCV(cv=5,\n",
       "             estimator=XGBClassifier(base_score=None, booster=None,\n",
       "                                     callbacks=None, colsample_bylevel=None,\n",
       "                                     colsample_bynode=None,\n",
       "                                     colsample_bytree=None,\n",
       "                                     early_stopping_rounds=None,\n",
       "                                     enable_categorical=False, eval_metric=None,\n",
       "                                     feature_types=None, gamma=None,\n",
       "                                     gpu_id=None, grow_policy=None,\n",
       "                                     importance_type=None,\n",
       "                                     interaction_constraints=None,\n",
       "                                     learning_rate=None,...=None,\n",
       "                                     max_cat_threshold=None,\n",
       "                                     max_cat_to_onehot=None,\n",
       "                                     max_delta_step=None, max_depth=None,\n",
       "                                     max_leaves=None, min_child_weight=None,\n",
       "                                     missing=nan, monotone_constraints=None,\n",
       "                                     n_estimators=100, n_jobs=None,\n",
       "                                     num_parallel_tree=None, predictor=None,\n",
       "                                     random_state=None, ...),\n",
       "             param_grid={'learning_rate': [0.1, 0.01, 0.001],\n",
       "                         'max_depth': [3, 4, 5, 6],\n",
       "                         'n_estimators': [200, 500, 800]})"
      ]
     },
     "execution_count": 35,
     "metadata": {},
     "output_type": "execute_result"
    }
   ],
   "source": [
    "xgb_W = xgb.XGBClassifier()\n",
    "grid_search_W = GridSearchCV(estimator=xgb_W, param_grid=param_grid, cv=5)\n",
    "grid_search_W.fit(X_train_W, y_train_W)"
   ]
  },
  {
   "cell_type": "code",
   "execution_count": 36,
   "id": "56c225c3",
   "metadata": {},
   "outputs": [],
   "source": [
    "best_params_W = grid_search_W.best_params_\n",
    "best_score_W = grid_search_W.best_score_"
   ]
  },
  {
   "cell_type": "code",
   "execution_count": 37,
   "id": "bab666e2",
   "metadata": {},
   "outputs": [
    {
     "data": {
      "text/plain": [
       "XGBClassifier(base_score=None, booster=None, callbacks=None,\n",
       "              colsample_bylevel=None, colsample_bynode=None,\n",
       "              colsample_bytree=None, early_stopping_rounds=None,\n",
       "              enable_categorical=False, eval_metric=None, feature_types=None,\n",
       "              gamma=None, gpu_id=None, grow_policy=None, importance_type=None,\n",
       "              interaction_constraints=None, learning_rate=0.01, max_bin=None,\n",
       "              max_cat_threshold=None, max_cat_to_onehot=None,\n",
       "              max_delta_step=None, max_depth=6, max_leaves=None,\n",
       "              min_child_weight=None, missing=nan, monotone_constraints=None,\n",
       "              n_estimators=200, n_jobs=None, num_parallel_tree=None,\n",
       "              predictor=None, random_state=None, ...)"
      ]
     },
     "execution_count": 37,
     "metadata": {},
     "output_type": "execute_result"
    }
   ],
   "source": [
    "best_xgb_W = xgb.XGBClassifier(**best_params_W)\n",
    "best_xgb_W.fit(X_train_W, y_train_W)"
   ]
  },
  {
   "cell_type": "code",
   "execution_count": 38,
   "id": "1a452f4e",
   "metadata": {},
   "outputs": [
    {
     "data": {
      "text/plain": [
       "0.7538860103626943"
      ]
     },
     "execution_count": 38,
     "metadata": {},
     "output_type": "execute_result"
    }
   ],
   "source": [
    "y_pred_best_W = best_xgb_W.predict(X_test_W)\n",
    "accuracy_best_W = accuracy_score(y_test_W, y_pred_best_W)\n",
    "accuracy_best_W"
   ]
  },
  {
   "cell_type": "code",
   "execution_count": 39,
   "id": "768dce68",
   "metadata": {
    "scrolled": false
   },
   "outputs": [
    {
     "data": {
      "text/plain": [
       "<AxesSubplot:title={'center':'Feature importance'}, xlabel='F score', ylabel='Features'>"
      ]
     },
     "execution_count": 39,
     "metadata": {},
     "output_type": "execute_result"
    },
    {
     "data": {
      "image/png": "[encoded data removed]",
      "text/plain": [
       "<Figure size 432x288 with 1 Axes>"
      ]
     },
     "metadata": {
      "needs_background": "light"
     },
     "output_type": "display_data"
    }
   ],
   "source": [
    "xgb.plot_importance(best_xgb_W, max_num_features=20, importance_type='gain')"
   ]
  },
  {
   "cell_type": "code",
   "execution_count": 40,
   "id": "18337811",
   "metadata": {},
   "outputs": [
    {
     "data": {
      "text/plain": [
       "0.16022295761967426"
      ]
     },
     "execution_count": 40,
     "metadata": {},
     "output_type": "execute_result"
    }
   ],
   "source": [
    "proba_best_W = best_xgb_W.predict_proba(X_test_W)\n",
    "proba_T1_best_W = proba_best_W[:,1]\n",
    "mean_squared_error(proba_T1_best_W, y_test_W)"
   ]
  },
  {
   "cell_type": "code",
   "execution_count": null,
   "id": "ee9804b5",
   "metadata": {},
   "outputs": [],
   "source": []
  }
 ],
 "metadata": {
  "kernelspec": {
   "display_name": "Python 3 (ipykernel)",
   "language": "python",
   "name": "python3"
  },
  "language_info": {
   "codemirror_mode": {
    "name": "ipython",
    "version": 3
   },
   "file_extension": ".py",
   "mimetype": "text/x-python",
   "name": "python",
   "nbconvert_exporter": "python",
   "pygments_lexer": "ipython3",
   "version": "3.9.12"
  }
 },
 "nbformat": 4,
 "nbformat_minor": 5
}
